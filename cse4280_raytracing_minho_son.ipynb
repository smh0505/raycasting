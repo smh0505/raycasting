{
 "cells": [
  {
   "attachments": {},
   "cell_type": "markdown",
   "metadata": {},
   "source": [
    "# Ray-tracing\n",
    "\n",
    "**Name**: Minho Son (mson2017@my.fit.edu)\\\n",
    "**Course**: CSE 4280\\\n",
    "**Date**: May 5, 2023"
   ]
  },
  {
   "attachments": {},
   "cell_type": "markdown",
   "metadata": {},
   "source": [
    "### Imports"
   ]
  },
  {
   "cell_type": "code",
   "execution_count": 1,
   "metadata": {},
   "outputs": [],
   "source": [
    "import numpy as np\n",
    "from PIL import Image as img"
   ]
  },
  {
   "attachments": {},
   "cell_type": "markdown",
   "metadata": {},
   "source": [
    "### Class `Ray` copied from the [starter code](rayTracingBasic.ipynb)"
   ]
  },
  {
   "attachments": {},
   "cell_type": "markdown",
   "metadata": {},
   "source": [
    "$$\\bold{p}(t) = \\bold{e} + (\\bold{s} - \\bold{e})t$$"
   ]
  },
  {
   "cell_type": "code",
   "execution_count": 2,
   "metadata": {},
   "outputs": [],
   "source": [
    "class Ray:\n",
    "    def __init__(self, e, s):\n",
    "        self.e = e\n",
    "        self.s = s\n",
    "    \n",
    "    def get3DPoint(self, t):\n",
    "        return self.e + (self.s - self.e) * t"
   ]
  },
  {
   "attachments": {},
   "cell_type": "markdown",
   "metadata": {},
   "source": [
    "### Class `Sphere` copied from the [starter code](rayTracingBasic.ipynb)"
   ]
  },
  {
   "cell_type": "code",
   "execution_count": 3,
   "metadata": {},
   "outputs": [],
   "source": [
    "class Sphere:\n",
    "    def __init__(self, c, r, k):\n",
    "        self.Center = c\n",
    "        self.Radius = r\n",
    "        self.Color = k\n",
    "    \n",
    "    def Intersect(self, ray):\n",
    "        A = np.dot(ray.s - ray.e, ray.s - ray.e)\n",
    "        B = 2.0 * np.dot(ray.s - ray.e, ray.e - self.Center)\n",
    "        C = np.dot(ray.e - self.Center, ray.e - self.Center) - self.Radius * self.Radius\n",
    "\n",
    "        delta = B * B - 4.0 * A * C\n",
    "        if delta < 0:\n",
    "            return float('inf')\n",
    "        else:\n",
    "            t1 = (-B - np.sqrt(delta)) / (2.0 * A)\n",
    "            t2 = (-B + np.sqrt(delta)) / (2.0 * A)\n",
    "\n",
    "            return np.min([t1, t2])\n",
    "        \n",
    "    def get_normal(self, p):\n",
    "        return (p - self.Center) / np.linalg.norm(p - self.Center)"
   ]
  },
  {
   "attachments": {},
   "cell_type": "markdown",
   "metadata": {},
   "source": [
    "### Class `Plane`"
   ]
  },
  {
   "cell_type": "code",
   "execution_count": 4,
   "metadata": {},
   "outputs": [],
   "source": [
    "class Plane:\n",
    "    def __init__(self, p1, n, k):\n",
    "        self.p1 = p1\n",
    "        self.n = n\n",
    "        self.Color = k\n",
    "\n",
    "    def Intersect(self, ray):\n",
    "        return np.dot(self.p1 - ray.e, self.n) / np.dot(ray.s - ray.e, self.n)\n",
    "    \n",
    "    def get_normal(self, p):\n",
    "        return self.n"
   ]
  },
  {
   "attachments": {},
   "cell_type": "markdown",
   "metadata": {},
   "source": [
    "### Class `Camera`"
   ]
  },
  {
   "cell_type": "code",
   "execution_count": 5,
   "metadata": {},
   "outputs": [],
   "source": [
    "class Camera:\n",
    "    nchannels = 3\n",
    "    eye = np.array((0.0, 0.0, 0.0)).transpose()\n",
    "\n",
    "    def __init__(self, f, nrows, ncols):\n",
    "        self.f = f\n",
    "        self.nrows = nrows\n",
    "        self.ncols = ncols\n",
    "\n",
    "        self.I = np.zeros([self.nrows, self.ncols, self.nchannels])\n",
    "\n",
    "    def ij2uv(self, i, j):\n",
    "        u =  (j + 0.5) - self.ncols / 2\n",
    "        v = -(i + 0.5) + self.nrows / 2\n",
    "        return u, v\n",
    "    \n",
    "    def constructRayThroughPixel(self, i, j):\n",
    "        u, v = self.ij2uv(i, j)\n",
    "        s = np.array((u, v, -self.f)).transpose()\n",
    "        return Ray(self.eye, s)\n",
    "    "
   ]
  },
  {
   "attachments": {},
   "cell_type": "markdown",
   "metadata": {},
   "source": [
    "### Class `HitInfo`"
   ]
  },
  {
   "cell_type": "code",
   "execution_count": 6,
   "metadata": {},
   "outputs": [],
   "source": [
    "class HitInfo:\n",
    "    def __init__(self, object, p):\n",
    "        self.Object = object\n",
    "        self.p = p"
   ]
  },
  {
   "attachments": {},
   "cell_type": "markdown",
   "metadata": {},
   "source": [
    "### Class `Scene`"
   ]
  },
  {
   "cell_type": "code",
   "execution_count": 38,
   "metadata": {},
   "outputs": [],
   "source": [
    "class Scene:\n",
    "    light_source_1 = np.array([0, 0, 1])\n",
    "    light_source_1 = light_source_1 / np.linalg.norm(light_source_1)\n",
    "\n",
    "    def __init__(self, cam):\n",
    "        self.cam = cam\n",
    "        obj_list = []\n",
    "\n",
    "        # object 1\n",
    "        C = np.array((-90, 0, -400.0)).transpose()\n",
    "        R = 80.0\n",
    "        K = np.array((255, 0, 0)).transpose()\n",
    "        obj_list.append(Sphere(C, R, K))\n",
    "\n",
    "        # object 2\n",
    "        C = np.array((90, 0, -400)).transpose()\n",
    "        R = 80.0\n",
    "        K = np.array((0, 255, 0)).transpose()\n",
    "        obj_list.append(Sphere(C, R, K))\n",
    "\n",
    "        # object 3\n",
    "        p1 = np.array((0, -600, -600)).transpose()\n",
    "        a = np.array((0, 1, -1)).transpose()\n",
    "        b = np.array((0, 1, 1)).transpose()\n",
    "        c = np.array((0, -1, 0)).transpose()\n",
    "        n = np.cross(b - a, c - a) / np.linalg.norm(np.cross(b - a, c - a))\n",
    "        K = np.array((0, 0, 255)).transpose()\n",
    "        obj_list.append(Plane(p1, n, K))\n",
    "\n",
    "        self.objects = obj_list\n",
    "\n",
    "    def find_intersection(self, ray):\n",
    "        hit_list = []\n",
    "        for surface in self.objects:\n",
    "            t = surface.Intersect(ray)\n",
    "            if float('inf') != t:\n",
    "                p = ray.get3DPoint(t)\n",
    "                hitInfo = HitInfo(surface, p)\n",
    "                hit_list.append(hitInfo)\n",
    "\n",
    "        return hit_list\n",
    "    \n",
    "    def get_color(self, hit_list):\n",
    "        pixelColor = np.array((0.0, 0.0, 0.0))\n",
    "        for hit in hit_list:\n",
    "            n = hit.Object.get_normal(hit.p)\n",
    "            diffuse_shading = max(0, np.dot(self.light_source_1, n))\n",
    "            ambient_color = hit.Object.Color * 0.3\n",
    "\n",
    "            v = self.cam.eye - hit.p\n",
    "            h = v + self.light_source_1\n",
    "            h = h / np.linalg.norm(h)\n",
    "\n",
    "            specular_component = max(0, np.dot(n, h)) ** 64\n",
    "\n",
    "            pixelColor += hit.Object.Color * ambient_color + hit.Object.Color * diffuse_shading + hit.Object.Color * specular_component\n",
    "            pixelColor = pixelColor / len(self.objects)\n",
    "        \n",
    "        return pixelColor\n"
   ]
  },
  {
   "cell_type": "code",
   "execution_count": 39,
   "metadata": {},
   "outputs": [
    {
     "data": {
      "image/png": "[encoded data removed]",
      "text/plain": [
       "<PIL.Image.Image image mode=RGB size=256x256>"
      ]
     },
     "metadata": {},
     "output_type": "display_data"
    }
   ],
   "source": [
    "nrows = 256\n",
    "ncols = 256\n",
    "f = 250.0\n",
    "\n",
    "cam = Camera(f, nrows, ncols)\n",
    "scene = Scene(cam)\n",
    "\n",
    "for i in range(nrows):\n",
    "    for j in range(ncols):\n",
    "        ray = cam.constructRayThroughPixel(i, j)\n",
    "        hit = scene.find_intersection(ray)\n",
    "        cam.I[i, j, :] = scene.get_color(hit)\n",
    "\n",
    "output = img.fromarray(np.uint8(cam.I))\n",
    "display(output)\n",
    "output.save('output.png')"
   ]
  },
  {
   "cell_type": "code",
   "execution_count": null,
   "metadata": {},
   "outputs": [],
   "source": []
  }
 ],
 "metadata": {
  "kernelspec": {
   "display_name": "Python 3",
   "language": "python",
   "name": "python3"
  },
  "language_info": {
   "codemirror_mode": {
    "name": "ipython",
    "version": 3
   },
   "file_extension": ".py",
   "mimetype": "text/x-python",
   "name": "python",
   "nbconvert_exporter": "python",
   "pygments_lexer": "ipython3",
   "version": "3.11.2"
  },
  "orig_nbformat": 4
 },
 "nbformat": 4,
 "nbformat_minor": 2
}
